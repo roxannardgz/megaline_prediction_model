{
 "cells": [
  {
   "cell_type": "markdown",
   "metadata": {},
   "source": [
    "# Subscriber Behavior Analysis at Megaline"
   ]
  },
  {
   "cell_type": "markdown",
   "metadata": {},
   "source": [
    "## Table of Contents <a id='back'></a>\n",
    "* [Introduction](#intro)\n",
    "* [Data Preparation](#prep)\n",
    "* [Model Development](#develop)\n",
    "* [Model Evaluation](#eval)\n",
    "* [Conclusion](#conclusion)"
   ]
  },
  {
   "cell_type": "markdown",
   "metadata": {},
   "source": [
    "## Introduction <a id='intro'></a>\n",
    "\n",
    "At Megaline, a leading mobile carrier, we are committed to enhancing customer satisfaction by ensuring our subscribers are on the most suitable plan for their needs. After the introduction of our newer plans, Smart and Ultra, we have discovered that many of our customers continue to use legacy plans. To address this, we have initiated a program to transition those customers to the newer, optimized plans. To support this effort, the Customer Insights Department aims to develop a predictive model to recommend either the Smart or Ultra plan based on user behavior.\n",
    "\n",
    "We will develop a classification model to predict the most appropriate plan for each user, based on monthly behavior data of subscribers who have already switched to the new plans. The dataset includes metrics such as the number of calls made, call duration, number of text messages sent, the internet traffic used, and the plan for the current month.\n",
    "\n",
    "This project involves splitting the data into training, validation and test sets, experimenting with various models and hyperparameters, and evaluating the models' performance. As a requirement, we have set the threshold for accuracy at a minimum of 75%. Lastly, we will conduct a sanity check to ensure the model's robustness. The ultimate objective of this project is to deliver a high-accuracy model that will facilitate personalized plan recommendations, thus improving customer satisfaction and loyalty."
   ]
  },
  {
   "cell_type": "markdown",
   "metadata": {},
   "source": [
    "## Data Preparation <a id='prep'></a>"
   ]
  },
  {
   "cell_type": "markdown",
   "metadata": {},
   "source": [
    "We will start by preparing the data (loading, cleaning and exploring) before diving into developing the model."
   ]
  },
  {
   "cell_type": "code",
   "execution_count": 1,
   "metadata": {},
   "outputs": [],
   "source": [
    "import pandas as pd\n",
    "import seaborn as sns\n",
    "import matplotlib.pyplot as plt\n",
    "import numpy as np\n",
    "\n",
    "from sklearn.model_selection import train_test_split\n",
    "from sklearn.tree import DecisionTreeClassifier\n",
    "from sklearn.ensemble import RandomForestClassifier\n",
    "from sklearn.linear_model import LogisticRegression\n",
    "from sklearn.metrics import accuracy_score, precision_score, recall_score, f1_score\n",
    "from sklearn.dummy import DummyClassifier"
   ]
  },
  {
   "cell_type": "code",
   "execution_count": 2,
   "metadata": {},
   "outputs": [],
   "source": [
    "# Loading data\n",
    "data = pd.read_csv('/datasets/users_behavior.csv')"
   ]
  },
  {
   "cell_type": "code",
   "execution_count": 3,
   "metadata": {
    "scrolled": true
   },
   "outputs": [
    {
     "name": "stdout",
     "output_type": "stream",
     "text": [
      "<class 'pandas.core.frame.DataFrame'>\n",
      "RangeIndex: 3214 entries, 0 to 3213\n",
      "Data columns (total 5 columns):\n",
      " #   Column    Non-Null Count  Dtype  \n",
      "---  ------    --------------  -----  \n",
      " 0   calls     3214 non-null   float64\n",
      " 1   minutes   3214 non-null   float64\n",
      " 2   messages  3214 non-null   float64\n",
      " 3   mb_used   3214 non-null   float64\n",
      " 4   is_ultra  3214 non-null   int64  \n",
      "dtypes: float64(4), int64(1)\n",
      "memory usage: 125.7 KB\n"
     ]
    }
   ],
   "source": [
    "data.info()"
   ]
  },
  {
   "cell_type": "code",
   "execution_count": 4,
   "metadata": {},
   "outputs": [
    {
     "data": {
      "text/plain": [
       "0"
      ]
     },
     "execution_count": 4,
     "metadata": {},
     "output_type": "execute_result"
    }
   ],
   "source": [
    "# Duplicated values count\n",
    "data.duplicated().sum()"
   ]
  },
  {
   "cell_type": "markdown",
   "metadata": {},
   "source": [
    "We do not have any missing or duplicated values. Let's take a look at the distribution of the calls, minutes used, messages sent and MB used, since the distribution of the data can affect the performance and behavior of the prediction model."
   ]
  },
  {
   "cell_type": "code",
   "execution_count": 5,
   "metadata": {},
   "outputs": [
    {
     "data": {
      "text/html": [
       "<div>\n",
       "<style scoped>\n",
       "    .dataframe tbody tr th:only-of-type {\n",
       "        vertical-align: middle;\n",
       "    }\n",
       "\n",
       "    .dataframe tbody tr th {\n",
       "        vertical-align: top;\n",
       "    }\n",
       "\n",
       "    .dataframe thead th {\n",
       "        text-align: right;\n",
       "    }\n",
       "</style>\n",
       "<table border=\"1\" class=\"dataframe\">\n",
       "  <thead>\n",
       "    <tr style=\"text-align: right;\">\n",
       "      <th></th>\n",
       "      <th>calls</th>\n",
       "      <th>minutes</th>\n",
       "      <th>messages</th>\n",
       "      <th>mb_used</th>\n",
       "      <th>is_ultra</th>\n",
       "    </tr>\n",
       "  </thead>\n",
       "  <tbody>\n",
       "    <tr>\n",
       "      <th>count</th>\n",
       "      <td>3214.000000</td>\n",
       "      <td>3214.000000</td>\n",
       "      <td>3214.000000</td>\n",
       "      <td>3214.000000</td>\n",
       "      <td>3214.000000</td>\n",
       "    </tr>\n",
       "    <tr>\n",
       "      <th>mean</th>\n",
       "      <td>63.038892</td>\n",
       "      <td>438.208787</td>\n",
       "      <td>38.281269</td>\n",
       "      <td>17207.673836</td>\n",
       "      <td>0.306472</td>\n",
       "    </tr>\n",
       "    <tr>\n",
       "      <th>std</th>\n",
       "      <td>33.236368</td>\n",
       "      <td>234.569872</td>\n",
       "      <td>36.148326</td>\n",
       "      <td>7570.968246</td>\n",
       "      <td>0.461100</td>\n",
       "    </tr>\n",
       "    <tr>\n",
       "      <th>min</th>\n",
       "      <td>0.000000</td>\n",
       "      <td>0.000000</td>\n",
       "      <td>0.000000</td>\n",
       "      <td>0.000000</td>\n",
       "      <td>0.000000</td>\n",
       "    </tr>\n",
       "    <tr>\n",
       "      <th>25%</th>\n",
       "      <td>40.000000</td>\n",
       "      <td>274.575000</td>\n",
       "      <td>9.000000</td>\n",
       "      <td>12491.902500</td>\n",
       "      <td>0.000000</td>\n",
       "    </tr>\n",
       "    <tr>\n",
       "      <th>50%</th>\n",
       "      <td>62.000000</td>\n",
       "      <td>430.600000</td>\n",
       "      <td>30.000000</td>\n",
       "      <td>16943.235000</td>\n",
       "      <td>0.000000</td>\n",
       "    </tr>\n",
       "    <tr>\n",
       "      <th>75%</th>\n",
       "      <td>82.000000</td>\n",
       "      <td>571.927500</td>\n",
       "      <td>57.000000</td>\n",
       "      <td>21424.700000</td>\n",
       "      <td>1.000000</td>\n",
       "    </tr>\n",
       "    <tr>\n",
       "      <th>max</th>\n",
       "      <td>244.000000</td>\n",
       "      <td>1632.060000</td>\n",
       "      <td>224.000000</td>\n",
       "      <td>49745.730000</td>\n",
       "      <td>1.000000</td>\n",
       "    </tr>\n",
       "  </tbody>\n",
       "</table>\n",
       "</div>"
      ],
      "text/plain": [
       "             calls      minutes     messages       mb_used     is_ultra\n",
       "count  3214.000000  3214.000000  3214.000000   3214.000000  3214.000000\n",
       "mean     63.038892   438.208787    38.281269  17207.673836     0.306472\n",
       "std      33.236368   234.569872    36.148326   7570.968246     0.461100\n",
       "min       0.000000     0.000000     0.000000      0.000000     0.000000\n",
       "25%      40.000000   274.575000     9.000000  12491.902500     0.000000\n",
       "50%      62.000000   430.600000    30.000000  16943.235000     0.000000\n",
       "75%      82.000000   571.927500    57.000000  21424.700000     1.000000\n",
       "max     244.000000  1632.060000   224.000000  49745.730000     1.000000"
      ]
     },
     "execution_count": 5,
     "metadata": {},
     "output_type": "execute_result"
    }
   ],
   "source": [
    "data.describe()"
   ]
  },
  {
   "cell_type": "code",
   "execution_count": 6,
   "metadata": {},
   "outputs": [
    {
     "data": {
      "image/png": "[encoded data removed]",
      "text/plain": [
       "<Figure size 1000x600 with 4 Axes>"
      ]
     },
     "metadata": {},
     "output_type": "display_data"
    }
   ],
   "source": [
    "fig, axes = plt.subplots(2, 2, figsize=(10, 6))\n",
    "\n",
    "# Calls\n",
    "axes[0, 0].hist(data['calls'], bins=30)\n",
    "axes[0, 0].set_title('Distribution of Number of Calls')\n",
    "\n",
    "# Minutes\n",
    "axes[0, 1].hist(data['minutes'], bins=30)\n",
    "axes[0, 1].set_title('Distribution of Minutes Used')\n",
    "\n",
    "# Messages\n",
    "axes[1, 0].hist(data['messages'], bins=30)\n",
    "axes[1, 0].set_title('Distribution of Messages Sent')\n",
    "\n",
    "# Internet - MB\n",
    "axes[1, 1].hist(data['mb_used'], bins=30)\n",
    "axes[1, 1].set_title('Distribution of MB Used')\n",
    "\n",
    "fig.tight_layout()\n",
    "\n",
    "\n",
    "plt.show()"
   ]
  },
  {
   "cell_type": "markdown",
   "metadata": {},
   "source": [
    "The MB used seems to present a distribution closer to normal, compared to the other features. Both the number of calls and the minutes used present a similar distribution, which are a bit skewed to the right. The messages sent present the most skewed distribution of all. It is important to take this into consideration, since models might struggle to learn the underlying patterns when the data is skewed and might be affected by the presence of outliers. We will proceed to exclude the most extreme outliers; those that are above the 99th percentile."
   ]
  },
  {
   "cell_type": "code",
   "execution_count": 7,
   "metadata": {},
   "outputs": [],
   "source": [
    "# Calculating threshold for outliers\n",
    "outliers_calls = np.percentile(data['calls'], 99)\n",
    "outliers_msg = np.percentile(data['messages'], 99)\n",
    "outliers_mins = np.percentile(data['minutes'], 99)\n",
    "outliers_mb = np.percentile(data['mb_used'], 99)"
   ]
  },
  {
   "cell_type": "code",
   "execution_count": 8,
   "metadata": {
    "scrolled": true
   },
   "outputs": [
    {
     "data": {
      "text/plain": [
       "97"
      ]
     },
     "execution_count": 8,
     "metadata": {},
     "output_type": "execute_result"
    }
   ],
   "source": [
    "# Keeping raw date intact\n",
    "data_raw = data.copy()\n",
    "\n",
    "# Excluding outliers based on the 99th percentile\n",
    "data = data[(data['calls'] < outliers_calls) & \n",
    "            (data['messages'] < outliers_msg) & \n",
    "            (data['minutes'] < outliers_mins) & \n",
    "            (data['mb_used'] < outliers_mb)]\n",
    "\n",
    "# Number of outliers excluded\n",
    "data_raw.shape[0] - data.shape[0]"
   ]
  },
  {
   "cell_type": "markdown",
   "metadata": {},
   "source": [
    "There were 97 entries exluded due to extreme values compared to the distribution of each feature. Let's also take a look at the distribution of our target variable."
   ]
  },
  {
   "cell_type": "code",
   "execution_count": 9,
   "metadata": {
    "scrolled": false
   },
   "outputs": [
    {
     "data": {
      "image/png": "[encoded data removed]",
      "text/plain": [
       "<Figure size 800x600 with 1 Axes>"
      ]
     },
     "metadata": {},
     "output_type": "display_data"
    },
    {
     "name": "stdout",
     "output_type": "stream",
     "text": [
      "0.7147898620468399\n"
     ]
    }
   ],
   "source": [
    "selected_plan = data['is_ultra'].value_counts()\n",
    "#selected_plan\n",
    "\n",
    "# Ploting number of customers using each plan\n",
    "plt.figure(figsize=(8, 6))\n",
    "plt.bar(selected_plan.index, selected_plan.values)\n",
    "\n",
    "plt.xlabel('Plan')\n",
    "plt.ylabel('Count')\n",
    "plt.title('Number of Customers for Plan ')\n",
    "plt.xticks(selected_plan.index, ['Smart', 'Ultra'], rotation=0)\n",
    "\n",
    "plt.show()\n",
    "\n",
    "print(selected_plan[0]/(selected_plan[0]+selected_plan[1]))"
   ]
  },
  {
   "cell_type": "markdown",
   "metadata": {},
   "source": [
    "We can see that there is a class imbalance, with a notably higher count of customers subscribed to the Smart plan compared to those on the Ultra plan. It is important to take this into consideration, since it can lead to a biased model performance, where the model might be biased towards the prediction of the plan Smart because it appears more frequently in the data."
   ]
  },
  {
   "cell_type": "markdown",
   "metadata": {},
   "source": [
    " [⬆ Back to Contents](#back)"
   ]
  },
  {
   "cell_type": "markdown",
   "metadata": {},
   "source": [
    "## Model Development <a id='develop'> </a>"
   ]
  },
  {
   "cell_type": "markdown",
   "metadata": {},
   "source": [
    "Let's start by splitting the source data. Since we don't have a test set, we will split the data into three parts: training, validation and test sets, in a ratio 3:1:1. Therefore, the training set will be 60% of the data, while validation and test sets will be 20% each."
   ]
  },
  {
   "cell_type": "code",
   "execution_count": 10,
   "metadata": {},
   "outputs": [],
   "source": [
    "# Spliting training set - 60%\n",
    "train_set, valid_test_set = train_test_split(data, test_size=0.4, random_state=19935)"
   ]
  },
  {
   "cell_type": "code",
   "execution_count": 11,
   "metadata": {},
   "outputs": [],
   "source": [
    "# Spliting validation and test set - 20% each\n",
    "valid_set, test_set = train_test_split(valid_test_set, test_size=0.5, random_state=19935)"
   ]
  },
  {
   "cell_type": "code",
   "execution_count": 12,
   "metadata": {},
   "outputs": [
    {
     "name": "stdout",
     "output_type": "stream",
     "text": [
      "Training set size: 1870 rows ≈ 0.6%\n",
      "Validation set size: 623 rows ≈ 0.2%\n",
      "Test set size: 624 rows ≈ 0.2%\n"
     ]
    }
   ],
   "source": [
    "# Print lengths and percentages of dfs\n",
    "print(f'Training set size: {len(train_set)} rows ≈ {len(train_set)/len(data):.1f}%')\n",
    "print(f'Validation set size: {len(valid_set)} rows ≈ {len(valid_set)/len(data):.1f}%')\n",
    "print(f'Test set size: {len(test_set)} rows ≈ {len(test_set)/len(data):.1f}%')"
   ]
  },
  {
   "cell_type": "markdown",
   "metadata": {},
   "source": [
    "Since we're training our model to predit which plan fit our customers better, we will train multiple classification models. For this, we will first separate our features and target into different variables."
   ]
  },
  {
   "cell_type": "code",
   "execution_count": 13,
   "metadata": {},
   "outputs": [],
   "source": [
    "# Separating features and target = training set\n",
    "train_features = train_set.drop(['is_ultra'], axis=1)\n",
    "train_target = train_set['is_ultra']\n",
    "\n",
    "# Separating features and target = validation set\n",
    "valid_features = valid_set.drop(['is_ultra'], axis=1)\n",
    "valid_target = valid_set['is_ultra']\n",
    "\n",
    "# Separating features and target = test set\n",
    "test_features = test_set.drop(['is_ultra'], axis=1)\n",
    "test_target = test_set['is_ultra']"
   ]
  },
  {
   "cell_type": "markdown",
   "metadata": {},
   "source": [
    "Next, we will train a decision tree model and tune the hyperparameters."
   ]
  },
  {
   "cell_type": "code",
   "execution_count": 14,
   "metadata": {},
   "outputs": [
    {
     "name": "stdout",
     "output_type": "stream",
     "text": [
      "For a depth of 8, the validation accuracy is 0.7817.\n"
     ]
    }
   ],
   "source": [
    "# Initializing hyperparameters\n",
    "best_depth_tree = None\n",
    "best_score_tree = 0\n",
    "\n",
    "# Train and tune decision tree\n",
    "for depth in range(1,11):\n",
    "    decision_tree = DecisionTreeClassifier(random_state=19935, max_depth=depth)\n",
    "    decision_tree.fit(train_features, train_target)\n",
    "    \n",
    "    valid_predictions = decision_tree.predict(valid_features)\n",
    "    score = accuracy_score(valid_target, valid_predictions)\n",
    "    \n",
    "    if score > best_score_tree:\n",
    "        best_score_tree = score\n",
    "        best_depth_tree = depth\n",
    "        \n",
    "print(f'For a depth of {best_depth_tree}, the validation accuracy is {best_score_tree:.4f}.')"
   ]
  },
  {
   "cell_type": "markdown",
   "metadata": {},
   "source": [
    "A decision tree model with depth 8 seems to yield the best results. Let's see how a Random Forest model performs."
   ]
  },
  {
   "cell_type": "code",
   "execution_count": 15,
   "metadata": {},
   "outputs": [
    {
     "name": "stdout",
     "output_type": "stream",
     "text": [
      "For a forest with 20 trees, a depth of 10, and a min split of 2, the validation accuracy is 0.7994.\n"
     ]
    }
   ],
   "source": [
    "# Initializing hyperparameters\n",
    "best_estimator_forest = 0\n",
    "best_depth_forest = None\n",
    "best_score_forest = 0\n",
    "best_split_forest = 0\n",
    "\n",
    "# Train and tune random forest\n",
    "for est in range(10, 100, 10):\n",
    "    for depth in range(1, 11):\n",
    "        for split in range(2, 11, 2):\n",
    "            \n",
    "            random_forest = RandomForestClassifier(random_state=19935, n_estimators=est, max_depth=depth, min_samples_split=split)\n",
    "            random_forest.fit(train_features, train_target)\n",
    "            \n",
    "            valid_predictions = random_forest.predict(valid_features)\n",
    "            score = accuracy_score(valid_target, valid_predictions)\n",
    "            \n",
    "            if score > best_score_forest:\n",
    "                best_score_forest = score\n",
    "                best_estimator_forest = est\n",
    "                best_depth_forest = depth\n",
    "                best_split_forest = split\n",
    "                \n",
    "print(f'For a forest with {best_estimator_forest} trees, a depth of {best_depth_forest}, and a min split of {best_split_forest}, the validation accuracy is {best_score_forest:.4f}.')"
   ]
  },
  {
   "cell_type": "markdown",
   "metadata": {},
   "source": [
    "The best configuration for the Random Forest seems to have a depth of 10 and 20 estimators. Lastly, let's train a model using logistic regression and see how it performs."
   ]
  },
  {
   "cell_type": "code",
   "execution_count": 16,
   "metadata": {},
   "outputs": [
    {
     "name": "stdout",
     "output_type": "stream",
     "text": [
      "For a C value of 0.1, the validation accuracy is 0.7143\n"
     ]
    }
   ],
   "source": [
    "# Initializing hyperparameters\n",
    "best_C = None\n",
    "best_score_logistic = 0\n",
    "\n",
    "C_values = [0.1, 1, 10, 100]\n",
    "\n",
    "# Train and tune logistic regression\n",
    "for C in C_values:\n",
    "    logistic_regression = LogisticRegression(random_state=19935, solver='liblinear', C=C, max_iter=10000)\n",
    "    logistic_regression.fit(train_features, train_target)\n",
    "    \n",
    "    valid_predictions = logistic_regression.predict(valid_features)\n",
    "    score = accuracy_score(valid_target, valid_predictions)\n",
    "    \n",
    "    if score > best_score_logistic:\n",
    "        best_score_logistic = score\n",
    "        best_C = C\n",
    "    \n",
    "print(f'For a C value of {best_C}, the validation accuracy is {best_score_logistic:.4f}')"
   ]
  },
  {
   "cell_type": "markdown",
   "metadata": {},
   "source": [
    "From the three models, the one with the best accuracy score is the Random Forest Model, with an accuracy of 80% - higher than the threshold. This is not surprising, since Random Forest typically improves the performance of decision trees by combining several trees and making the model more robust, while also reducing overfitting.\n",
    "\n",
    "Following the Random Forest, we have the Decision Tree, with an accuracy of 78%. It performed well, but slightly worse than the Random Forest. In the last position, we have the Logistic Regression, with an accuracy of 71%, below the threshold. This might indicate that the relationship between the features and the target variable is not purely linear.\n",
    "\n",
    "Given that Random Forest achieved the highest accuracy, it appears to be the best model for our dataset. However, accuracy alone shouldn't be the only criterion for selecting a model. We will consider other performance metrics after testing the model with the test set."
   ]
  },
  {
   "cell_type": "markdown",
   "metadata": {},
   "source": [
    " [⬆ Back to Contents](#back)\n"
   ]
  },
  {
   "cell_type": "markdown",
   "metadata": {},
   "source": [
    "## Model Evaluation <a id='eval'> </a>"
   ]
  },
  {
   "cell_type": "markdown",
   "metadata": {},
   "source": [
    "Now that we have trained and tuned our models, we will evaluate the best-performing one on the test set to confirm its performance."
   ]
  },
  {
   "cell_type": "code",
   "execution_count": 17,
   "metadata": {},
   "outputs": [
    {
     "name": "stdout",
     "output_type": "stream",
     "text": [
      "0.8157051282051282\n"
     ]
    }
   ],
   "source": [
    "# Training selected model on test set\n",
    "prediction_model = RandomForestClassifier(random_state=19935, n_estimators=best_estimator_forest, max_depth=best_depth_forest, min_samples_split=best_split_forest)\n",
    "prediction_model.fit(train_features, train_target)\n",
    "\n",
    "test_predictions = prediction_model.predict(test_features)\n",
    "accuracy_test = accuracy_score(test_predictions, test_target)\n",
    "\n",
    "print(accuracy_test)"
   ]
  },
  {
   "cell_type": "markdown",
   "metadata": {},
   "source": [
    "The validation score (80%) and the test score (82%) are very close, indicating that the model's performance is consistent and even slightly better on the test compared to the validation set. This suggests that with the hyperparameters selected, the model generalizes well to unseen data. The fact that the test score is slightly higher than the validation score indicates that the model is not overfitting to the validation set.\n",
    "\n",
    "While an accuracy score of 82% is promising and the closeness to the validation score suggests that the model is likely to perform similarly well with other datasets, it is essential to consider other metrics to ensure the model is adequate for the objectives. To provide a more comprehensive understanding of the performance of the model, and taking into account that we have a class imbalance, let's calculate precision, recall and F1 score."
   ]
  },
  {
   "cell_type": "code",
   "execution_count": 18,
   "metadata": {},
   "outputs": [
    {
     "name": "stdout",
     "output_type": "stream",
     "text": [
      "Precision: 0.8073\n",
      "Recall: 0.4835\n",
      "F1 Score: 0.6048\n"
     ]
    }
   ],
   "source": [
    "# Evaluating metrics of Random Forest on test set\n",
    "precision = precision_score(test_target, test_predictions, average='binary')\n",
    "recall = recall_score(test_target, test_predictions, average='binary')\n",
    "f1 = f1_score(test_target, test_predictions, average='binary')\n",
    "\n",
    "# Print results\n",
    "print(f'Precision: {precision:.4f}')\n",
    "print(f'Recall: {recall:.4f}')\n",
    "print(f'F1 Score: {f1:.4f}')"
   ]
  },
  {
   "cell_type": "markdown",
   "metadata": {},
   "source": [
    "The model has a moderate level of precision of 80%, indicating that it makes some false positive predictions (the model predicts that a customer uses the plan Ultra when the customer is actually using the plan Smart). However, out of all the cases when the customer uses plan Ultra, the model correctly identified only around 50% of them (i.e. around 50% of the predictiond are true positives).\n",
    "\n",
    "The F1 score reflects the trade-off between precision and recall, and in this case, it suggests that the model's overall performance is somewhat balanced but not very high. The model is struggling more with recall than precision. The model is fairly good at making positive predictions that are actually correct, but there's a significant proportion of false negatives."
   ]
  },
  {
   "cell_type": "markdown",
   "metadata": {},
   "source": [
    "To sanity check our model, we need to compare it with chance. For that, we will use a dummy classifier, which serves as a baseline model that makes predictions using simple rules. In this case, the dummy classifier will predict the most frequent class to set a minimum performance benchmark that our model should surpass. Comparing the performance of our model to that of a dummy classifier can help us make sure that our model is actually learning the patterns from the data and not just getting a prediction by chance (guessing)."
   ]
  },
  {
   "cell_type": "code",
   "execution_count": 19,
   "metadata": {},
   "outputs": [
    {
     "name": "stdout",
     "output_type": "stream",
     "text": [
      "Accuracy: 0.7175\n",
      "Precision: 0.0000\n",
      "Recall: 0.0000\n",
      "F1 Score: 0.0000\n"
     ]
    }
   ],
   "source": [
    "# Dummy classifier - most frequent strategy\n",
    "dummy = DummyClassifier(strategy='most_frequent')\n",
    "dummy.fit(train_features, train_target)\n",
    "dummy_predictions = dummy.predict(valid_features)\n",
    "\n",
    "# Dummy metrics\n",
    "dummy_accuracy = accuracy_score(valid_target, dummy_predictions)\n",
    "dummy_precision = precision_score(valid_target, dummy_predictions, zero_division=0)\n",
    "dummy_recall = recall_score(valid_target, dummy_predictions)\n",
    "dummy_f1 = f1_score(valid_target, dummy_predictions)\n",
    "\n",
    "# Print results\n",
    "print(f'Accuracy: {dummy_accuracy:.4f}')\n",
    "print(f'Precision: {dummy_precision:.4f}')\n",
    "print(f'Recall: {dummy_recall:.4f}')\n",
    "print(f'F1 Score: {dummy_f1:.4f}')"
   ]
  },
  {
   "cell_type": "markdown",
   "metadata": {},
   "source": [
    "The accuracy of the dummy classifier is relatively high, which makes sense in our case, given the class imbalance in our date. The dummy classifier is correctly predicting the majority class but is never prediting the minority class, resulting in a precision, recall and F1 score of 0.\n",
    "\n",
    "Let's also compare the metrics of our model againts a dummy classifier the guesses according to the class distribution, to get a more realistic random guessing that reflects the data distribution."
   ]
  },
  {
   "cell_type": "code",
   "execution_count": 20,
   "metadata": {},
   "outputs": [
    {
     "name": "stdout",
     "output_type": "stream",
     "text": [
      "Accuracy: 0.5955\n",
      "Precision: 0.2738\n",
      "Recall: 0.2614\n",
      "F1 Score: 0.2674\n"
     ]
    }
   ],
   "source": [
    "# Dummy classifier - stratified strategy\n",
    "dummy_s = DummyClassifier(strategy='stratified')\n",
    "dummy_s.fit(train_features, train_target)\n",
    "dummy_s_predictions = dummy_s.predict(valid_features)\n",
    "\n",
    "# Dummy metrics\n",
    "dummy_accuracy = accuracy_score(valid_target, dummy_s_predictions)\n",
    "dummy_precision = precision_score(valid_target, dummy_s_predictions)\n",
    "dummy_recall = recall_score(valid_target, dummy_s_predictions)\n",
    "dummy_f1 = f1_score(valid_target, dummy_s_predictions)\n",
    "\n",
    "# Print results\n",
    "print(f'Accuracy: {dummy_accuracy:.4f}')\n",
    "print(f'Precision: {dummy_precision:.4f}')\n",
    "print(f'Recall: {dummy_recall:.4f}')\n",
    "print(f'F1 Score: {dummy_f1:.4f}')"
   ]
  },
  {
   "cell_type": "markdown",
   "metadata": {},
   "source": [
    "Our model outperforms the metrics of both of the dummy classifiers, indicating that it is learning from the patterns in the data and making accurate predictions that are not due to chance."
   ]
  },
  {
   "cell_type": "markdown",
   "metadata": {},
   "source": [
    " [⬆ Back to Contents](#back)"
   ]
  },
  {
   "cell_type": "markdown",
   "metadata": {},
   "source": [
    "## Conclusion <a id='conclusion'></a>"
   ]
  },
  {
   "cell_type": "markdown",
   "metadata": {},
   "source": [
    "After investigating the quality of different models and tuning the hyperparameters to select the better ones, we determined that the best model for our data is Random Forest. The model's accuracy on both the validation and test sets is reasonably high, indicating that the model effectively distinguishes between the Smart and Ultra plans based on customer behavior. The precision of the model is also moderately high, indicating a relatively low false positive rate. However, the recall score is not so high, indicating that there are some users who should be recommended the Ultra plan but are being missed by the model.\n",
    "\n",
    "The current model can be used to assist in recommending the most suitable plan to our customers based on their usage behavior. The model is a good starting point, but further improvements are advisable. Given the overall performance metrics and taking into consideration the business implications and potential consequences, we recommend conducting a pilot test to see how the model performs in a real-world setting and gather feedback from the customers. Since there is a room for improvement in the metrics, we also recommend working on improving recall without sacrificing too much precision. This might require further tuning or gatherting more data."
   ]
  }
 ],
 "metadata": {
  "ExecuteTimeLog": [
   {
    "duration": 453,
    "start_time": "2024-06-07T16:27:04.981Z"
   },
   {
    "duration": 1175,
    "start_time": "2024-06-07T16:29:09.105Z"
   },
   {
    "duration": 3,
    "start_time": "2024-06-07T16:29:12.754Z"
   },
   {
    "duration": 135,
    "start_time": "2024-06-07T16:29:13.744Z"
   },
   {
    "duration": 18,
    "start_time": "2024-06-07T16:29:27.454Z"
   },
   {
    "duration": 24,
    "start_time": "2024-06-07T16:29:48.324Z"
   },
   {
    "duration": 318,
    "start_time": "2024-06-08T11:47:34.714Z"
   },
   {
    "duration": 454,
    "start_time": "2024-06-08T11:47:38.332Z"
   },
   {
    "duration": 20,
    "start_time": "2024-06-08T11:47:38.791Z"
   },
   {
    "duration": 17,
    "start_time": "2024-06-08T11:47:39.004Z"
   },
   {
    "duration": 15,
    "start_time": "2024-06-08T11:47:47.745Z"
   },
   {
    "duration": 15,
    "start_time": "2024-06-08T11:48:33.190Z"
   },
   {
    "duration": 12,
    "start_time": "2024-06-08T11:54:22.192Z"
   },
   {
    "duration": 29,
    "start_time": "2024-06-08T11:54:26.181Z"
   },
   {
    "duration": 8,
    "start_time": "2024-06-08T11:55:18.004Z"
   },
   {
    "duration": 4551,
    "start_time": "2024-06-08T11:58:55.937Z"
   },
   {
    "duration": 209,
    "start_time": "2024-06-08T12:03:30.594Z"
   },
   {
    "duration": 234,
    "start_time": "2024-06-08T12:03:52.807Z"
   },
   {
    "duration": 248,
    "start_time": "2024-06-08T12:05:35.654Z"
   },
   {
    "duration": 1523,
    "start_time": "2024-06-08T12:06:31.931Z"
   },
   {
    "duration": 32,
    "start_time": "2024-06-08T12:07:11.495Z"
   },
   {
    "duration": 28,
    "start_time": "2024-06-08T12:07:16.016Z"
   },
   {
    "duration": 275,
    "start_time": "2024-06-08T12:07:21.978Z"
   },
   {
    "duration": 1349,
    "start_time": "2024-06-08T12:14:53.763Z"
   },
   {
    "duration": 820,
    "start_time": "2024-06-08T12:15:03.944Z"
   },
   {
    "duration": 790,
    "start_time": "2024-06-08T12:15:27.229Z"
   },
   {
    "duration": 1030,
    "start_time": "2024-06-08T12:15:48.227Z"
   },
   {
    "duration": 225,
    "start_time": "2024-06-08T12:41:48.552Z"
   },
   {
    "duration": 7,
    "start_time": "2024-06-08T12:56:19.919Z"
   },
   {
    "duration": 7,
    "start_time": "2024-06-08T12:57:15.077Z"
   },
   {
    "duration": 5,
    "start_time": "2024-06-08T12:58:19.179Z"
   },
   {
    "duration": 5,
    "start_time": "2024-06-08T12:58:49.740Z"
   },
   {
    "duration": 4,
    "start_time": "2024-06-08T13:01:43.898Z"
   },
   {
    "duration": 6,
    "start_time": "2024-06-08T13:01:54.371Z"
   },
   {
    "duration": 5,
    "start_time": "2024-06-08T13:02:57.842Z"
   },
   {
    "duration": 5237,
    "start_time": "2024-06-08T16:30:12.254Z"
   },
   {
    "duration": 21,
    "start_time": "2024-06-08T16:30:17.494Z"
   },
   {
    "duration": 16,
    "start_time": "2024-06-08T16:30:17.517Z"
   },
   {
    "duration": 10,
    "start_time": "2024-06-08T16:30:17.538Z"
   },
   {
    "duration": 70,
    "start_time": "2024-06-08T16:30:17.552Z"
   },
   {
    "duration": 1119,
    "start_time": "2024-06-08T16:30:17.625Z"
   },
   {
    "duration": 7,
    "start_time": "2024-06-08T16:30:18.748Z"
   },
   {
    "duration": 6,
    "start_time": "2024-06-08T16:30:18.761Z"
   },
   {
    "duration": 41,
    "start_time": "2024-06-08T16:30:18.770Z"
   },
   {
    "duration": 1854,
    "start_time": "2024-06-08T16:30:18.817Z"
   },
   {
    "duration": 0,
    "start_time": "2024-06-08T16:30:20.674Z"
   },
   {
    "duration": 4,
    "start_time": "2024-06-08T16:31:31.634Z"
   },
   {
    "duration": 4,
    "start_time": "2024-06-08T16:31:39.112Z"
   },
   {
    "duration": 6,
    "start_time": "2024-06-08T16:31:41.552Z"
   },
   {
    "duration": 49,
    "start_time": "2024-06-08T16:37:04.912Z"
   },
   {
    "duration": 40,
    "start_time": "2024-06-08T16:38:57.945Z"
   },
   {
    "duration": 6,
    "start_time": "2024-06-08T16:39:31.795Z"
   },
   {
    "duration": 9,
    "start_time": "2024-06-08T16:41:59.947Z"
   },
   {
    "duration": 4,
    "start_time": "2024-06-08T16:42:37.708Z"
   },
   {
    "duration": 6,
    "start_time": "2024-06-08T17:35:55.550Z"
   },
   {
    "duration": 26,
    "start_time": "2024-06-08T17:38:11.803Z"
   },
   {
    "duration": 7,
    "start_time": "2024-06-08T17:38:16.341Z"
   },
   {
    "duration": 31,
    "start_time": "2024-06-08T17:53:42.668Z"
   },
   {
    "duration": 32,
    "start_time": "2024-06-08T17:53:59.204Z"
   },
   {
    "duration": 81,
    "start_time": "2024-06-08T17:54:06.165Z"
   },
   {
    "duration": 100,
    "start_time": "2024-06-08T17:54:14.165Z"
   },
   {
    "duration": 99,
    "start_time": "2024-06-08T17:55:51.332Z"
   },
   {
    "duration": 101,
    "start_time": "2024-06-08T17:56:03.314Z"
   },
   {
    "duration": 345,
    "start_time": "2024-06-09T08:01:31.145Z"
   },
   {
    "duration": 5174,
    "start_time": "2024-06-09T08:01:40.429Z"
   },
   {
    "duration": 20,
    "start_time": "2024-06-09T08:01:45.606Z"
   },
   {
    "duration": 16,
    "start_time": "2024-06-09T08:01:45.629Z"
   },
   {
    "duration": 10,
    "start_time": "2024-06-09T08:01:45.649Z"
   },
   {
    "duration": 69,
    "start_time": "2024-06-09T08:01:45.664Z"
   },
   {
    "duration": 1013,
    "start_time": "2024-06-09T08:01:45.736Z"
   },
   {
    "duration": 7,
    "start_time": "2024-06-09T08:01:46.752Z"
   },
   {
    "duration": 8,
    "start_time": "2024-06-09T08:01:46.762Z"
   },
   {
    "duration": 6,
    "start_time": "2024-06-09T08:01:46.773Z"
   },
   {
    "duration": 52,
    "start_time": "2024-06-09T08:01:46.782Z"
   },
   {
    "duration": 159,
    "start_time": "2024-06-09T08:01:46.837Z"
   },
   {
    "duration": 0,
    "start_time": "2024-06-09T08:01:46.999Z"
   },
   {
    "duration": 0,
    "start_time": "2024-06-09T08:01:47.002Z"
   },
   {
    "duration": 0,
    "start_time": "2024-06-09T08:01:47.005Z"
   },
   {
    "duration": 37,
    "start_time": "2024-06-09T08:02:05.358Z"
   },
   {
    "duration": 92,
    "start_time": "2024-06-09T08:02:19.887Z"
   },
   {
    "duration": 73154,
    "start_time": "2024-06-09T08:02:22.389Z"
   },
   {
    "duration": 30,
    "start_time": "2024-06-09T08:25:29.331Z"
   },
   {
    "duration": 33,
    "start_time": "2024-06-09T08:25:37.169Z"
   },
   {
    "duration": 165,
    "start_time": "2024-06-09T08:26:17.682Z"
   },
   {
    "duration": 334,
    "start_time": "2024-06-09T13:53:31.140Z"
   },
   {
    "duration": 22,
    "start_time": "2024-06-09T13:53:50.541Z"
   },
   {
    "duration": 5339,
    "start_time": "2024-06-09T13:53:56.485Z"
   },
   {
    "duration": 23,
    "start_time": "2024-06-09T13:54:01.828Z"
   },
   {
    "duration": 17,
    "start_time": "2024-06-09T13:54:01.855Z"
   },
   {
    "duration": 12,
    "start_time": "2024-06-09T13:54:01.877Z"
   },
   {
    "duration": 63,
    "start_time": "2024-06-09T13:54:01.894Z"
   },
   {
    "duration": 1134,
    "start_time": "2024-06-09T13:54:01.961Z"
   },
   {
    "duration": 7,
    "start_time": "2024-06-09T13:54:03.099Z"
   },
   {
    "duration": 23,
    "start_time": "2024-06-09T13:54:03.110Z"
   },
   {
    "duration": 6,
    "start_time": "2024-06-09T13:54:03.136Z"
   },
   {
    "duration": 8,
    "start_time": "2024-06-09T13:54:03.146Z"
   },
   {
    "duration": 130,
    "start_time": "2024-06-09T13:54:03.157Z"
   },
   {
    "duration": 73465,
    "start_time": "2024-06-09T13:54:03.290Z"
   },
   {
    "duration": 37,
    "start_time": "2024-06-09T13:55:16.763Z"
   },
   {
    "duration": 238,
    "start_time": "2024-06-09T13:55:16.805Z"
   },
   {
    "duration": 28,
    "start_time": "2024-06-09T13:55:31.431Z"
   },
   {
    "duration": 26,
    "start_time": "2024-06-09T13:55:39.795Z"
   },
   {
    "duration": 7,
    "start_time": "2024-06-09T13:56:47.717Z"
   },
   {
    "duration": 164,
    "start_time": "2024-06-09T13:56:51.097Z"
   },
   {
    "duration": 26,
    "start_time": "2024-06-09T14:02:00.271Z"
   },
   {
    "duration": 164,
    "start_time": "2024-06-09T14:02:07.122Z"
   },
   {
    "duration": 6,
    "start_time": "2024-06-09T14:02:14.124Z"
   },
   {
    "duration": 14,
    "start_time": "2024-06-09T14:02:14.134Z"
   },
   {
    "duration": 14,
    "start_time": "2024-06-09T14:02:14.152Z"
   },
   {
    "duration": 10,
    "start_time": "2024-06-09T14:02:14.169Z"
   },
   {
    "duration": 55,
    "start_time": "2024-06-09T14:02:14.183Z"
   },
   {
    "duration": 996,
    "start_time": "2024-06-09T14:02:14.241Z"
   },
   {
    "duration": 7,
    "start_time": "2024-06-09T14:02:15.240Z"
   },
   {
    "duration": 7,
    "start_time": "2024-06-09T14:02:15.250Z"
   },
   {
    "duration": 6,
    "start_time": "2024-06-09T14:02:15.260Z"
   },
   {
    "duration": 9,
    "start_time": "2024-06-09T14:02:15.269Z"
   },
   {
    "duration": 143,
    "start_time": "2024-06-09T14:02:15.280Z"
   },
   {
    "duration": 73118,
    "start_time": "2024-06-09T14:02:15.433Z"
   },
   {
    "duration": 48,
    "start_time": "2024-06-09T14:03:28.555Z"
   },
   {
    "duration": 201,
    "start_time": "2024-06-09T14:03:28.609Z"
   },
   {
    "duration": 6,
    "start_time": "2024-06-09T14:04:11.727Z"
   },
   {
    "duration": 13,
    "start_time": "2024-06-09T14:04:11.737Z"
   },
   {
    "duration": 17,
    "start_time": "2024-06-09T14:04:11.753Z"
   },
   {
    "duration": 10,
    "start_time": "2024-06-09T14:04:11.774Z"
   },
   {
    "duration": 75,
    "start_time": "2024-06-09T14:04:11.790Z"
   },
   {
    "duration": 1093,
    "start_time": "2024-06-09T14:04:11.867Z"
   },
   {
    "duration": 6,
    "start_time": "2024-06-09T14:04:12.964Z"
   },
   {
    "duration": 7,
    "start_time": "2024-06-09T14:04:12.973Z"
   },
   {
    "duration": 5,
    "start_time": "2024-06-09T14:04:12.983Z"
   },
   {
    "duration": 44,
    "start_time": "2024-06-09T14:04:12.991Z"
   },
   {
    "duration": 104,
    "start_time": "2024-06-09T14:04:13.038Z"
   },
   {
    "duration": 74117,
    "start_time": "2024-06-09T14:04:13.145Z"
   },
   {
    "duration": 42,
    "start_time": "2024-06-09T14:05:27.265Z"
   },
   {
    "duration": 153,
    "start_time": "2024-06-09T14:05:27.315Z"
   },
   {
    "duration": 24,
    "start_time": "2024-06-09T14:11:20.906Z"
   },
   {
    "duration": 25,
    "start_time": "2024-06-09T14:11:48.550Z"
   },
   {
    "duration": 120,
    "start_time": "2024-06-09T14:15:57.063Z"
   },
   {
    "duration": 28,
    "start_time": "2024-06-09T14:23:39.834Z"
   },
   {
    "duration": 3,
    "start_time": "2024-06-09T14:23:50.844Z"
   },
   {
    "duration": 8,
    "start_time": "2024-06-09T14:23:56.908Z"
   },
   {
    "duration": 6,
    "start_time": "2024-06-09T14:24:15.255Z"
   },
   {
    "duration": 5,
    "start_time": "2024-06-09T14:25:47.665Z"
   },
   {
    "duration": 9,
    "start_time": "2024-06-09T14:25:51.744Z"
   },
   {
    "duration": 1155,
    "start_time": "2024-06-09T14:26:08.740Z"
   },
   {
    "duration": 5245,
    "start_time": "2024-06-09T18:53:12.976Z"
   },
   {
    "duration": 23,
    "start_time": "2024-06-09T18:53:18.225Z"
   },
   {
    "duration": 16,
    "start_time": "2024-06-09T18:53:18.252Z"
   },
   {
    "duration": 32,
    "start_time": "2024-06-09T18:53:18.272Z"
   },
   {
    "duration": 31,
    "start_time": "2024-06-09T18:53:18.309Z"
   },
   {
    "duration": 1083,
    "start_time": "2024-06-09T18:53:18.344Z"
   },
   {
    "duration": 184,
    "start_time": "2024-06-09T18:53:19.430Z"
   },
   {
    "duration": 7,
    "start_time": "2024-06-09T18:53:19.617Z"
   },
   {
    "duration": 7,
    "start_time": "2024-06-09T18:53:19.626Z"
   },
   {
    "duration": 5,
    "start_time": "2024-06-09T18:53:19.637Z"
   },
   {
    "duration": 9,
    "start_time": "2024-06-09T18:53:19.645Z"
   },
   {
    "duration": 103,
    "start_time": "2024-06-09T18:53:19.701Z"
   },
   {
    "duration": 73762,
    "start_time": "2024-06-09T18:53:19.807Z"
   },
   {
    "duration": 51,
    "start_time": "2024-06-09T18:54:33.574Z"
   },
   {
    "duration": 148,
    "start_time": "2024-06-09T18:54:33.628Z"
   },
   {
    "duration": 201,
    "start_time": "2024-06-09T18:55:39.325Z"
   },
   {
    "duration": 171,
    "start_time": "2024-06-09T18:55:50.033Z"
   },
   {
    "duration": 186,
    "start_time": "2024-06-09T18:56:41.591Z"
   },
   {
    "duration": 506,
    "start_time": "2024-06-09T19:49:49.411Z"
   },
   {
    "duration": 6,
    "start_time": "2024-06-09T19:50:28.041Z"
   },
   {
    "duration": 12,
    "start_time": "2024-06-09T19:50:32.724Z"
   },
   {
    "duration": 5219,
    "start_time": "2024-06-10T07:15:35.324Z"
   },
   {
    "duration": 487,
    "start_time": "2024-06-10T07:22:05.783Z"
   },
   {
    "duration": 4,
    "start_time": "2024-06-10T07:22:44.692Z"
   },
   {
    "duration": 18,
    "start_time": "2024-06-10T07:22:45.657Z"
   },
   {
    "duration": 15,
    "start_time": "2024-06-10T07:22:46.682Z"
   },
   {
    "duration": 10,
    "start_time": "2024-06-10T07:22:47.414Z"
   },
   {
    "duration": 34,
    "start_time": "2024-06-10T07:22:48.453Z"
   },
   {
    "duration": 984,
    "start_time": "2024-06-10T07:22:48.833Z"
   },
   {
    "duration": 5,
    "start_time": "2024-06-10T07:22:53.829Z"
   },
   {
    "duration": 28,
    "start_time": "2024-06-10T07:23:00.284Z"
   },
   {
    "duration": 27,
    "start_time": "2024-06-10T07:27:46.434Z"
   },
   {
    "duration": 27,
    "start_time": "2024-06-10T07:29:44.063Z"
   },
   {
    "duration": 37,
    "start_time": "2024-06-10T07:29:44.382Z"
   },
   {
    "duration": 5,
    "start_time": "2024-06-10T07:30:05.240Z"
   },
   {
    "duration": 10,
    "start_time": "2024-06-10T07:30:06.512Z"
   },
   {
    "duration": 15,
    "start_time": "2024-06-10T07:30:07.181Z"
   },
   {
    "duration": 10,
    "start_time": "2024-06-10T07:30:08.044Z"
   },
   {
    "duration": 30,
    "start_time": "2024-06-10T07:30:08.899Z"
   },
   {
    "duration": 994,
    "start_time": "2024-06-10T07:30:09.293Z"
   },
   {
    "duration": 10,
    "start_time": "2024-06-10T07:30:11.540Z"
   },
   {
    "duration": 10,
    "start_time": "2024-06-10T07:30:32.191Z"
   },
   {
    "duration": 7,
    "start_time": "2024-06-10T07:30:45.278Z"
   },
   {
    "duration": 179,
    "start_time": "2024-06-10T07:30:46.960Z"
   },
   {
    "duration": 392,
    "start_time": "2024-06-10T07:42:49.996Z"
   },
   {
    "duration": 66,
    "start_time": "2024-06-10T07:45:26.204Z"
   },
   {
    "duration": 7,
    "start_time": "2024-06-10T07:46:39.431Z"
   },
   {
    "duration": 70,
    "start_time": "2024-06-10T07:46:40.127Z"
   },
   {
    "duration": 9,
    "start_time": "2024-06-10T07:46:56.543Z"
   },
   {
    "duration": 10,
    "start_time": "2024-06-10T07:46:57.013Z"
   },
   {
    "duration": 12,
    "start_time": "2024-06-10T07:49:06.394Z"
   },
   {
    "duration": 12,
    "start_time": "2024-06-10T07:49:40.183Z"
   },
   {
    "duration": 5,
    "start_time": "2024-06-10T07:52:08.271Z"
   },
   {
    "duration": 12,
    "start_time": "2024-06-10T07:52:08.282Z"
   },
   {
    "duration": 17,
    "start_time": "2024-06-10T07:52:08.297Z"
   },
   {
    "duration": 11,
    "start_time": "2024-06-10T07:52:08.319Z"
   },
   {
    "duration": 29,
    "start_time": "2024-06-10T07:52:08.332Z"
   },
   {
    "duration": 1007,
    "start_time": "2024-06-10T07:52:08.364Z"
   },
   {
    "duration": 7,
    "start_time": "2024-06-10T07:52:09.376Z"
   },
   {
    "duration": 28,
    "start_time": "2024-06-10T07:52:09.386Z"
   },
   {
    "duration": 182,
    "start_time": "2024-06-10T07:52:09.419Z"
   },
   {
    "duration": 7,
    "start_time": "2024-06-10T07:52:09.608Z"
   },
   {
    "duration": 8,
    "start_time": "2024-06-10T07:52:09.618Z"
   },
   {
    "duration": 5,
    "start_time": "2024-06-10T07:52:09.630Z"
   },
   {
    "duration": 8,
    "start_time": "2024-06-10T07:52:09.638Z"
   },
   {
    "duration": 143,
    "start_time": "2024-06-10T07:52:09.650Z"
   },
   {
    "duration": 71441,
    "start_time": "2024-06-10T07:52:09.796Z"
   },
   {
    "duration": 40,
    "start_time": "2024-06-10T07:53:21.239Z"
   },
   {
    "duration": 124,
    "start_time": "2024-06-10T07:53:21.282Z"
   },
   {
    "duration": 11,
    "start_time": "2024-06-10T07:53:21.410Z"
   },
   {
    "duration": 97,
    "start_time": "2024-06-10T08:26:16.454Z"
   },
   {
    "duration": 108,
    "start_time": "2024-06-10T08:26:21.203Z"
   },
   {
    "duration": 71518,
    "start_time": "2024-06-10T08:28:11.692Z"
   },
   {
    "duration": 39,
    "start_time": "2024-06-10T08:29:23.213Z"
   },
   {
    "duration": 92,
    "start_time": "2024-06-10T08:52:21.607Z"
   },
   {
    "duration": 12,
    "start_time": "2024-06-10T09:05:28.031Z"
   },
   {
    "duration": 5686,
    "start_time": "2024-06-10T18:09:09.159Z"
   },
   {
    "duration": 1663,
    "start_time": "2024-06-10T18:09:30.594Z"
   },
   {
    "duration": 15,
    "start_time": "2024-06-10T18:09:32.261Z"
   },
   {
    "duration": 16,
    "start_time": "2024-06-10T18:09:32.278Z"
   },
   {
    "duration": 35,
    "start_time": "2024-06-10T18:09:32.298Z"
   },
   {
    "duration": 32,
    "start_time": "2024-06-10T18:09:32.337Z"
   },
   {
    "duration": 994,
    "start_time": "2024-06-10T18:09:32.372Z"
   },
   {
    "duration": 8,
    "start_time": "2024-06-10T18:09:33.369Z"
   },
   {
    "duration": 13,
    "start_time": "2024-06-10T18:09:33.380Z"
   },
   {
    "duration": 190,
    "start_time": "2024-06-10T18:09:33.395Z"
   },
   {
    "duration": 6,
    "start_time": "2024-06-10T18:09:33.590Z"
   },
   {
    "duration": 33,
    "start_time": "2024-06-10T18:09:33.599Z"
   },
   {
    "duration": 5,
    "start_time": "2024-06-10T18:09:33.636Z"
   },
   {
    "duration": 10,
    "start_time": "2024-06-10T18:09:33.645Z"
   },
   {
    "duration": 128,
    "start_time": "2024-06-10T18:09:33.658Z"
   },
   {
    "duration": 72249,
    "start_time": "2024-06-10T18:09:33.788Z"
   },
   {
    "duration": 45,
    "start_time": "2024-06-10T18:10:46.040Z"
   },
   {
    "duration": 130,
    "start_time": "2024-06-10T18:10:46.088Z"
   },
   {
    "duration": 21,
    "start_time": "2024-06-10T18:10:46.221Z"
   },
   {
    "duration": 491,
    "start_time": "2024-06-10T18:16:37.816Z"
   },
   {
    "duration": 15,
    "start_time": "2024-06-10T18:16:48.926Z"
   },
   {
    "duration": 163,
    "start_time": "2024-06-10T18:24:47.790Z"
   },
   {
    "duration": 184,
    "start_time": "2024-06-10T18:25:02.952Z"
   },
   {
    "duration": 195,
    "start_time": "2024-06-10T18:25:17.638Z"
   },
   {
    "duration": 192,
    "start_time": "2024-06-10T18:25:28.998Z"
   },
   {
    "duration": 184,
    "start_time": "2024-06-10T18:25:48.990Z"
   },
   {
    "duration": 207,
    "start_time": "2024-06-10T18:26:13.133Z"
   },
   {
    "duration": 174,
    "start_time": "2024-06-10T18:26:24.520Z"
   },
   {
    "duration": 14,
    "start_time": "2024-06-10T18:37:37.037Z"
   },
   {
    "duration": 15,
    "start_time": "2024-06-10T18:37:43.936Z"
   },
   {
    "duration": 13,
    "start_time": "2024-06-10T18:38:45.926Z"
   },
   {
    "duration": 12,
    "start_time": "2024-06-10T18:41:23.772Z"
   },
   {
    "duration": 13,
    "start_time": "2024-06-10T18:41:25.492Z"
   },
   {
    "duration": 336,
    "start_time": "2024-06-10T21:03:29.242Z"
   },
   {
    "duration": 1626,
    "start_time": "2024-06-10T21:03:35.208Z"
   },
   {
    "duration": 13,
    "start_time": "2024-06-10T21:03:36.838Z"
   },
   {
    "duration": 17,
    "start_time": "2024-06-10T21:03:36.853Z"
   },
   {
    "duration": 12,
    "start_time": "2024-06-10T21:03:36.873Z"
   },
   {
    "duration": 69,
    "start_time": "2024-06-10T21:03:36.890Z"
   },
   {
    "duration": 997,
    "start_time": "2024-06-10T21:03:36.962Z"
   },
   {
    "duration": 7,
    "start_time": "2024-06-10T21:03:37.963Z"
   },
   {
    "duration": 12,
    "start_time": "2024-06-10T21:03:37.973Z"
   },
   {
    "duration": 197,
    "start_time": "2024-06-10T21:03:37.988Z"
   },
   {
    "duration": 7,
    "start_time": "2024-06-10T21:03:38.189Z"
   },
   {
    "duration": 8,
    "start_time": "2024-06-10T21:03:38.199Z"
   },
   {
    "duration": 5,
    "start_time": "2024-06-10T21:03:38.233Z"
   },
   {
    "duration": 9,
    "start_time": "2024-06-10T21:03:38.242Z"
   },
   {
    "duration": 132,
    "start_time": "2024-06-10T21:03:38.257Z"
   },
   {
    "duration": 72282,
    "start_time": "2024-06-10T21:03:38.391Z"
   },
   {
    "duration": 59,
    "start_time": "2024-06-10T21:04:50.677Z"
   },
   {
    "duration": 109,
    "start_time": "2024-06-10T21:04:50.740Z"
   },
   {
    "duration": 14,
    "start_time": "2024-06-10T21:04:50.853Z"
   },
   {
    "duration": 16,
    "start_time": "2024-06-10T21:04:50.871Z"
   },
   {
    "duration": 49,
    "start_time": "2024-06-10T21:04:50.891Z"
   },
   {
    "duration": 3,
    "start_time": "2024-06-10T21:04:50.945Z"
   },
   {
    "duration": 99,
    "start_time": "2024-06-10T21:13:02.636Z"
   },
   {
    "duration": 12,
    "start_time": "2024-06-10T21:13:57.608Z"
   },
   {
    "duration": 5248,
    "start_time": "2024-06-11T08:54:28.168Z"
   },
   {
    "duration": 19,
    "start_time": "2024-06-11T08:54:33.420Z"
   },
   {
    "duration": 15,
    "start_time": "2024-06-11T08:54:33.442Z"
   },
   {
    "duration": 12,
    "start_time": "2024-06-11T08:54:33.460Z"
   },
   {
    "duration": 60,
    "start_time": "2024-06-11T08:54:33.478Z"
   },
   {
    "duration": 1100,
    "start_time": "2024-06-11T08:54:33.541Z"
   },
   {
    "duration": 7,
    "start_time": "2024-06-11T08:54:34.644Z"
   },
   {
    "duration": 12,
    "start_time": "2024-06-11T08:54:34.654Z"
   },
   {
    "duration": 208,
    "start_time": "2024-06-11T08:54:34.669Z"
   },
   {
    "duration": 6,
    "start_time": "2024-06-11T08:54:34.881Z"
   },
   {
    "duration": 7,
    "start_time": "2024-06-11T08:54:34.890Z"
   },
   {
    "duration": 32,
    "start_time": "2024-06-11T08:54:34.900Z"
   },
   {
    "duration": 10,
    "start_time": "2024-06-11T08:54:34.935Z"
   },
   {
    "duration": 116,
    "start_time": "2024-06-11T08:54:34.950Z"
   },
   {
    "duration": 71379,
    "start_time": "2024-06-11T08:54:35.069Z"
   },
   {
    "duration": 38,
    "start_time": "2024-06-11T08:55:46.451Z"
   },
   {
    "duration": 118,
    "start_time": "2024-06-11T08:55:46.493Z"
   },
   {
    "duration": 20,
    "start_time": "2024-06-11T08:55:46.613Z"
   },
   {
    "duration": 14,
    "start_time": "2024-06-11T08:55:46.636Z"
   },
   {
    "duration": 14,
    "start_time": "2024-06-11T08:55:46.654Z"
   },
   {
    "duration": 5387,
    "start_time": "2024-06-11T18:28:33.023Z"
   },
   {
    "duration": 11,
    "start_time": "2024-06-11T18:28:38.415Z"
   },
   {
    "duration": 14,
    "start_time": "2024-06-11T18:28:38.429Z"
   },
   {
    "duration": 11,
    "start_time": "2024-06-11T18:28:38.446Z"
   },
   {
    "duration": 64,
    "start_time": "2024-06-11T18:28:38.462Z"
   },
   {
    "duration": 1124,
    "start_time": "2024-06-11T18:28:38.529Z"
   },
   {
    "duration": 7,
    "start_time": "2024-06-11T18:28:39.656Z"
   },
   {
    "duration": 36,
    "start_time": "2024-06-11T18:28:39.666Z"
   },
   {
    "duration": 173,
    "start_time": "2024-06-11T18:28:39.705Z"
   },
   {
    "duration": 20,
    "start_time": "2024-06-11T18:28:39.882Z"
   },
   {
    "duration": 7,
    "start_time": "2024-06-11T18:28:39.904Z"
   },
   {
    "duration": 6,
    "start_time": "2024-06-11T18:28:39.916Z"
   },
   {
    "duration": 9,
    "start_time": "2024-06-11T18:28:39.925Z"
   },
   {
    "duration": 130,
    "start_time": "2024-06-11T18:28:39.940Z"
   },
   {
    "duration": 71338,
    "start_time": "2024-06-11T18:28:40.073Z"
   },
   {
    "duration": 42,
    "start_time": "2024-06-11T18:29:51.414Z"
   },
   {
    "duration": 119,
    "start_time": "2024-06-11T18:29:51.459Z"
   },
   {
    "duration": 26,
    "start_time": "2024-06-11T18:29:51.581Z"
   },
   {
    "duration": 16,
    "start_time": "2024-06-11T18:29:51.610Z"
   },
   {
    "duration": 17,
    "start_time": "2024-06-11T18:29:51.630Z"
   },
   {
    "duration": 9,
    "start_time": "2024-06-11T18:45:25.810Z"
   }
  ],
  "kernelspec": {
   "display_name": "Python 3 (ipykernel)",
   "language": "python",
   "name": "python3"
  },
  "language_info": {
   "codemirror_mode": {
    "name": "ipython",
    "version": 3
   },
   "file_extension": ".py",
   "mimetype": "text/x-python",
   "name": "python",
   "nbconvert_exporter": "python",
   "pygments_lexer": "ipython3",
   "version": "3.10.11"
  },
  "toc": {
   "base_numbering": 1,
   "nav_menu": {},
   "number_sections": true,
   "sideBar": true,
   "skip_h1_title": true,
   "title_cell": "Table of Contents",
   "title_sidebar": "Contents",
   "toc_cell": false,
   "toc_position": {},
   "toc_section_display": true,
   "toc_window_display": false
  }
 },
 "nbformat": 4,
 "nbformat_minor": 2
}
